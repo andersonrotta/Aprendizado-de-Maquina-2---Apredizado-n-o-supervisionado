{
  "nbformat": 4,
  "nbformat_minor": 0,
  "metadata": {
    "colab": {
      "name": "Aprendizado de maquina II - nao supervisionado",
      "provenance": []
    },
    "kernelspec": {
      "name": "python3",
      "display_name": "Python 3"
    }
  },
  "cells": [
    {
      "cell_type": "code",
      "metadata": {
        "id": "2GvnRfMGutUM"
      },
      "source": [
        "import cv2\r\n",
        "import os\r\n",
        "import sys\r\n",
        "import random\r\n",
        "import numpy as np"
      ],
      "execution_count": 1,
      "outputs": []
    },
    {
      "cell_type": "code",
      "metadata": {
        "colab": {
          "base_uri": "https://localhost:8080/",
          "height": 136
        },
        "id": "VnLWsEyCzeiC",
        "outputId": "65cacf4d-f875-4750-9337-8017139e0356"
      },
      "source": [
        "class person:\r\n",
        "  pass\r\n",
        "class PCA:\r\n",
        "\r\n",
        "pca = PCA(0.9 9) # variância explicada de 0.99\r\n",
        "lower_dimension_data = pca.fit_transform(X)\r\n",
        "lower_dimension_data.shape\r\n"
      ],
      "execution_count": 4,
      "outputs": [
        {
          "output_type": "error",
          "ename": "IndentationError",
          "evalue": "ignored",
          "traceback": [
            "\u001b[0;36m  File \u001b[0;32m\"<ipython-input-4-ab3086820ece>\"\u001b[0;36m, line \u001b[0;32m5\u001b[0m\n\u001b[0;31m    pca = PCA(0.99) # variância explicada de 0.99\u001b[0m\n\u001b[0m      ^\u001b[0m\n\u001b[0;31mIndentationError\u001b[0m\u001b[0;31m:\u001b[0m expected an indented block\n"
          ]
        }
      ]
    },
    {
      "cell_type": "code",
      "metadata": {
        "colab": {
          "base_uri": "https://localhost:8080/",
          "height": 210
        },
        "id": "D8yj7Z0A0CeJ",
        "outputId": "9762ada5-dc9e-4249-e5e6-971996e05fd3"
      },
      "source": [
        "pca = PCA(0.99) # variância explicada de 0.99\r\n",
        "lower_dimension_data = pca.fit_transform(X)\r\n",
        "lower_dimension_data.shape"
      ],
      "execution_count": 5,
      "outputs": [
        {
          "output_type": "error",
          "ename": "NameError",
          "evalue": "ignored",
          "traceback": [
            "\u001b[0;31m---------------------------------------------------------------------------\u001b[0m",
            "\u001b[0;31mNameError\u001b[0m                                 Traceback (most recent call last)",
            "\u001b[0;32m<ipython-input-5-4079c02983ca>\u001b[0m in \u001b[0;36m<module>\u001b[0;34m()\u001b[0m\n\u001b[0;32m----> 1\u001b[0;31m \u001b[0mpca\u001b[0m \u001b[0;34m=\u001b[0m \u001b[0mPCA\u001b[0m\u001b[0;34m(\u001b[0m\u001b[0;36m0.99\u001b[0m\u001b[0;34m)\u001b[0m \u001b[0;31m# variância explicada de 0.99\u001b[0m\u001b[0;34m\u001b[0m\u001b[0;34m\u001b[0m\u001b[0m\n\u001b[0m\u001b[1;32m      2\u001b[0m \u001b[0mlower_dimension_data\u001b[0m \u001b[0;34m=\u001b[0m \u001b[0mpca\u001b[0m\u001b[0;34m.\u001b[0m\u001b[0mfit_transform\u001b[0m\u001b[0;34m(\u001b[0m\u001b[0mX\u001b[0m\u001b[0;34m)\u001b[0m\u001b[0;34m\u001b[0m\u001b[0;34m\u001b[0m\u001b[0m\n\u001b[1;32m      3\u001b[0m \u001b[0mlower_dimension_data\u001b[0m\u001b[0;34m.\u001b[0m\u001b[0mshape\u001b[0m\u001b[0;34m\u001b[0m\u001b[0;34m\u001b[0m\u001b[0m\n",
            "\u001b[0;31mNameError\u001b[0m: name 'PCA' is not defined"
          ]
        }
      ]
    },
    {
      "cell_type": "code",
      "metadata": {
        "id": "wM63RsYn0l0I"
      },
      "source": [
        "def load_data_set (path, train, test, p)\r\n",
        "\r\n",
        "path = \"./\"\r\n",
        "train = []\r\n",
        "test = []\r\n",
        "\r\n",
        "p = 7\r\n",
        "\r\n",
        "PCA.load_data_set (path, train, test, p)\r\n",
        "\r\n",
        "start = 10\r\n",
        "end = 20"
      ],
      "execution_count": null,
      "outputs": []
    },
    {
      "cell_type": "code",
      "metadata": {
        "id": "vxjfU-DP1IZY"
      },
      "source": [
        "for k in range (star, end)\r\n"
      ],
      "execution_count": null,
      "outputs": []
    },
    {
      "cell_type": "code",
      "metadata": {
        "id": "d225SEkZ1VoA"
      },
      "source": [
        "print (k, \"componentes principais, acurácia\") + {\"%\"}"
      ],
      "execution_count": null,
      "outputs": []
    }
  ]
}